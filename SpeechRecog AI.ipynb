{
 "cells": [
  {
   "cell_type": "markdown",
   "metadata": {},
   "source": [
    "# Importing Packages for Speech Recognition"
   ]
  },
  {
   "cell_type": "code",
   "execution_count": null,
   "metadata": {},
   "outputs": [],
   "source": [
    "import speech_recognition as sr #the main speech recog package\n",
    "import re #for pattern matching\n",
    "from playsound import playsound #to perform the act of playing\n",
    "import time #to add delay\n"
   ]
  },
  {
   "cell_type": "markdown",
   "metadata": {},
   "source": [
    "# Sound Production(For ProducingThe Response Sounds)"
   ]
  },
  {
   "cell_type": "code",
   "execution_count": null,
   "metadata": {},
   "outputs": [],
   "source": [
    "from gtts import gTTS #for creating own sounds froom text \n",
    "def sound_producer(mytext):\n",
    "    \n",
    "# Language in which you want to convert \n",
    "    language = 'en'\n",
    "  \n",
    "# Passing the text and language to the engine,  \n",
    "# here we have marked slow=False. Which tells  \n",
    "# the module that the converted audio should  \n",
    "# have a high speed \n",
    "    myobj = gTTS(text=mytext, lang=language, slow=False)\n",
    "    string=mytext+\".mp3\"\n",
    "  \n",
    "# Saving the converted audio in a mp3 file named \n",
    "# welcome  \n",
    "    myobj.save(string)"
   ]
  },
  {
   "cell_type": "code",
   "execution_count": null,
   "metadata": {},
   "outputs": [],
   "source": [
    "sound_producer('This song starts late Please Wait')"
   ]
  },
  {
   "cell_type": "markdown",
   "metadata": {},
   "source": [
    "# Speech Recognizer"
   ]
  },
  {
   "cell_type": "code",
   "execution_count": null,
   "metadata": {},
   "outputs": [],
   "source": [
    "def speech():\n",
    "    r=sr.Recognizer()\n",
    "    \n",
    "    with sr.Microphone() as source:\n",
    "        print(\"Which song would you like to hear?\")\n",
    "        playsound(r'which song would you like to hear.mp3')        \n",
    "        audio=r.record(source,duration=5)\n",
    "        print(\"Processing...\")\n",
    "    try:\n",
    "        text=r.recognize_google(audio)\n",
    "        return text\n",
    "    except Exception as e:\n",
    "        print(e)"
   ]
  },
  {
   "cell_type": "code",
   "execution_count": null,
   "metadata": {},
   "outputs": [],
   "source": [
    "speech()"
   ]
  },
  {
   "cell_type": "markdown",
   "metadata": {},
   "source": [
    "# Pattern Matching For More Human Characteristics for the AI"
   ]
  },
  {
   "cell_type": "code",
   "execution_count": null,
   "metadata": {},
   "outputs": [],
   "source": [
    "def sampling():\n",
    "    SPEECH=speech()\n",
    "    print(SPEECH)\n",
    "    SampleSpace= re.compile(r'roses|Godzilla|all time low|bohemian rhapsody|elastic heart|homicide|Roxanne')\n",
    "    try:\n",
    "        searching=SampleSpace.search(SPEECH)\n",
    "        \n",
    "    except Exception:\n",
    "        print(\"I didn't quite catch that\")\n",
    "        playsound(r'I didnt quite catch that.mp3')\n",
    "        \n",
    "        \n",
    "    try:\n",
    "        if searching.group()=='roses':\n",
    "            print(\"Just a Moment\")\n",
    "            playsound(r'Just a Moment.mp3')\n",
    "            \n",
    "            return 1\n",
    "        elif searching.group()== 'Godzilla':\n",
    "            print(\"Just a Moment\")\n",
    "            playsound(r'Just a Moment.mp3')\n",
    "            \n",
    "            return 2\n",
    "        elif searching.group()== 'all time low':\n",
    "            print(\"Just a Moment\")\n",
    "            playsound(r'Just a Moment.mp3')\n",
    "            \n",
    "            return 3\n",
    "        elif searching.group()== 'bohemian rhapsody':\n",
    "            print(\"Just a Moment\")\n",
    "            playsound(r'Just a Moment.mp3')\n",
    "            \n",
    "            return 4\n",
    "        elif searching.group()=='elastic heart':\n",
    "            print(\"Just a Moment\")\n",
    "            playsound(r'Just a Moment.mp3')\n",
    "            \n",
    "            return 5\n",
    "        elif searching.group()=='homicide':\n",
    "            print(\"Just a Moment\")\n",
    "            playsound(r'Just a Moment.mp3')\n",
    "            \n",
    "            return 6 \n",
    "        elif searching.group()=='Roxanne':\n",
    "            print(\"Just a Moment\")\n",
    "            playsound(r'Just a Moment.mp3')\n",
    "            \n",
    "            return 7\n",
    "        else:\n",
    "            return 0\n",
    "        \n",
    "    except Exception:\n",
    "        print(\"Song Not Found\")\n",
    "        playsound(r'Song Not Found.mp3')\n",
    "        print(\"Please Give Me Another Chance\")\n",
    "        playsound(r'Please Give Me Another Chance.mp3')"
   ]
  },
  {
   "cell_type": "markdown",
   "metadata": {},
   "source": [
    "# Performing The Correct Action Based on The Processing"
   ]
  },
  {
   "cell_type": "code",
   "execution_count": null,
   "metadata": {},
   "outputs": [],
   "source": [
    "playsound(r'Hello Senpai This is Yui.mp3')\n",
    "flag = sampling()\n",
    "print(flag)\n",
    "\n",
    "if flag == 0:\n",
    "    time.sleep(1)\n",
    "    playsound(r'Please Give Me Another Chance.mp3')\n",
    "    print(\"Please Give Me Another Chance\")\n",
    "elif flag == 1:\n",
    "    time.sleep(1)\n",
    "    playsound(r'Roses.mp3')\n",
    "elif flag == 2:\n",
    "    time.sleep(1)\n",
    "    playsound(r'godzilla.mp3')\n",
    "elif flag == 3:\n",
    "    time.sleep(1)\n",
    "    playsound(r'All time low.mp3')\n",
    "elif flag == 4:\n",
    "    time.sleep(1)\n",
    "    playsound(r'Bohemian Rhapsody.mp3')\n",
    "elif flag == 5:\n",
    "    time.sleep(1)\n",
    "    playsound(r'Elastic Heart.mp3')\n",
    "elif flag == 6:\n",
    "    time.sleep(1)\n",
    "    playsound(r'Homicide.mp3')\n",
    "elif flag==7:\n",
    "    time.sleep(1)\n",
    "    playsound(r'ROXANNE.mp3')"
   ]
  },
  {
   "cell_type": "markdown",
   "metadata": {},
   "source": [
    "# "
   ]
  },
  {
   "cell_type": "markdown",
   "metadata": {},
   "source": [
    "# COMPLETE PROGRAM"
   ]
  },
  {
   "cell_type": "code",
   "execution_count": 1,
   "metadata": {},
   "outputs": [
    {
     "name": "stdout",
     "output_type": "stream",
     "text": [
      "Hello Senpai This is Yui!!\n"
     ]
    },
    {
     "ename": "FileNotFoundError",
     "evalue": "[Errno 2] No such file or directory: 'Hello Senpai This is Yui.mp3'",
     "output_type": "error",
     "traceback": [
      "\u001b[1;31m---------------------------------------------------------------------------\u001b[0m",
      "\u001b[1;31mFileNotFoundError\u001b[0m                         Traceback (most recent call last)",
      "\u001b[1;32m~\\AppData\\Local\\Temp/ipykernel_17372/819764958.py\u001b[0m in \u001b[0;36m<module>\u001b[1;34m\u001b[0m\n\u001b[0;32m     85\u001b[0m \u001b[1;33m\u001b[0m\u001b[0m\n\u001b[0;32m     86\u001b[0m \u001b[0mprint\u001b[0m\u001b[1;33m(\u001b[0m\u001b[1;34m\"Hello Senpai This is Yui!!\"\u001b[0m\u001b[1;33m)\u001b[0m\u001b[1;33m\u001b[0m\u001b[1;33m\u001b[0m\u001b[0m\n\u001b[1;32m---> 87\u001b[1;33m \u001b[0mplaysound\u001b[0m\u001b[1;33m(\u001b[0m\u001b[1;34mr'Hello Senpai This is Yui.mp3'\u001b[0m\u001b[1;33m)\u001b[0m\u001b[1;33m\u001b[0m\u001b[1;33m\u001b[0m\u001b[0m\n\u001b[0m\u001b[0;32m     88\u001b[0m \u001b[1;33m\u001b[0m\u001b[0m\n\u001b[0;32m     89\u001b[0m \u001b[0mflag\u001b[0m \u001b[1;33m=\u001b[0m \u001b[0msampling\u001b[0m\u001b[1;33m(\u001b[0m\u001b[1;33m)\u001b[0m\u001b[1;33m\u001b[0m\u001b[1;33m\u001b[0m\u001b[0m\n",
      "\u001b[1;32m~\\AppData\\Local\\Packages\\PythonSoftwareFoundation.Python.3.9_qbz5n2kfra8p0\\LocalCache\\local-packages\\Python39\\site-packages\\playsound.py\u001b[0m in \u001b[0;36m_playsoundWin\u001b[1;34m(sound, block)\u001b[0m\n\u001b[0;32m     39\u001b[0m         \u001b[0mfd\u001b[0m\u001b[1;33m,\u001b[0m \u001b[0mtempPath\u001b[0m \u001b[1;33m=\u001b[0m \u001b[0mmkstemp\u001b[0m\u001b[1;33m(\u001b[0m\u001b[0mprefix\u001b[0m \u001b[1;33m=\u001b[0m \u001b[1;34m'PS'\u001b[0m\u001b[1;33m,\u001b[0m \u001b[0msuffix\u001b[0m \u001b[1;33m=\u001b[0m \u001b[0msplitext\u001b[0m\u001b[1;33m(\u001b[0m\u001b[0msound\u001b[0m\u001b[1;33m)\u001b[0m\u001b[1;33m[\u001b[0m\u001b[1;36m1\u001b[0m\u001b[1;33m]\u001b[0m\u001b[1;33m)\u001b[0m  \u001b[1;31m# Avoid generating files longer than 8.3 characters.\u001b[0m\u001b[1;33m\u001b[0m\u001b[1;33m\u001b[0m\u001b[0m\n\u001b[0;32m     40\u001b[0m         \u001b[0mlogger\u001b[0m\u001b[1;33m.\u001b[0m\u001b[0minfo\u001b[0m\u001b[1;33m(\u001b[0m\u001b[1;34m'Made a temporary copy of {} at {} - use other filenames with only safe characters to avoid this.'\u001b[0m\u001b[1;33m.\u001b[0m\u001b[0mformat\u001b[0m\u001b[1;33m(\u001b[0m\u001b[0msound\u001b[0m\u001b[1;33m,\u001b[0m \u001b[0mtempPath\u001b[0m\u001b[1;33m)\u001b[0m\u001b[1;33m)\u001b[0m\u001b[1;33m\u001b[0m\u001b[1;33m\u001b[0m\u001b[0m\n\u001b[1;32m---> 41\u001b[1;33m         \u001b[0mcopy\u001b[0m\u001b[1;33m(\u001b[0m\u001b[0msound\u001b[0m\u001b[1;33m,\u001b[0m \u001b[0mtempPath\u001b[0m\u001b[1;33m)\u001b[0m\u001b[1;33m\u001b[0m\u001b[1;33m\u001b[0m\u001b[0m\n\u001b[0m\u001b[0;32m     42\u001b[0m         \u001b[0mclose\u001b[0m\u001b[1;33m(\u001b[0m\u001b[0mfd\u001b[0m\u001b[1;33m)\u001b[0m  \u001b[1;31m# mkstemp opens the file, but it must be closed before MCI can open it.\u001b[0m\u001b[1;33m\u001b[0m\u001b[1;33m\u001b[0m\u001b[0m\n\u001b[0;32m     43\u001b[0m         \u001b[1;32mtry\u001b[0m\u001b[1;33m:\u001b[0m\u001b[1;33m\u001b[0m\u001b[1;33m\u001b[0m\u001b[0m\n",
      "\u001b[1;32mC:\\Program Files\\WindowsApps\\PythonSoftwareFoundation.Python.3.9_3.9.2544.0_x64__qbz5n2kfra8p0\\lib\\shutil.py\u001b[0m in \u001b[0;36mcopy\u001b[1;34m(src, dst, follow_symlinks)\u001b[0m\n\u001b[0;32m    425\u001b[0m     \u001b[1;32mif\u001b[0m \u001b[0mos\u001b[0m\u001b[1;33m.\u001b[0m\u001b[0mpath\u001b[0m\u001b[1;33m.\u001b[0m\u001b[0misdir\u001b[0m\u001b[1;33m(\u001b[0m\u001b[0mdst\u001b[0m\u001b[1;33m)\u001b[0m\u001b[1;33m:\u001b[0m\u001b[1;33m\u001b[0m\u001b[1;33m\u001b[0m\u001b[0m\n\u001b[0;32m    426\u001b[0m         \u001b[0mdst\u001b[0m \u001b[1;33m=\u001b[0m \u001b[0mos\u001b[0m\u001b[1;33m.\u001b[0m\u001b[0mpath\u001b[0m\u001b[1;33m.\u001b[0m\u001b[0mjoin\u001b[0m\u001b[1;33m(\u001b[0m\u001b[0mdst\u001b[0m\u001b[1;33m,\u001b[0m \u001b[0mos\u001b[0m\u001b[1;33m.\u001b[0m\u001b[0mpath\u001b[0m\u001b[1;33m.\u001b[0m\u001b[0mbasename\u001b[0m\u001b[1;33m(\u001b[0m\u001b[0msrc\u001b[0m\u001b[1;33m)\u001b[0m\u001b[1;33m)\u001b[0m\u001b[1;33m\u001b[0m\u001b[1;33m\u001b[0m\u001b[0m\n\u001b[1;32m--> 427\u001b[1;33m     \u001b[0mcopyfile\u001b[0m\u001b[1;33m(\u001b[0m\u001b[0msrc\u001b[0m\u001b[1;33m,\u001b[0m \u001b[0mdst\u001b[0m\u001b[1;33m,\u001b[0m \u001b[0mfollow_symlinks\u001b[0m\u001b[1;33m=\u001b[0m\u001b[0mfollow_symlinks\u001b[0m\u001b[1;33m)\u001b[0m\u001b[1;33m\u001b[0m\u001b[1;33m\u001b[0m\u001b[0m\n\u001b[0m\u001b[0;32m    428\u001b[0m     \u001b[0mcopymode\u001b[0m\u001b[1;33m(\u001b[0m\u001b[0msrc\u001b[0m\u001b[1;33m,\u001b[0m \u001b[0mdst\u001b[0m\u001b[1;33m,\u001b[0m \u001b[0mfollow_symlinks\u001b[0m\u001b[1;33m=\u001b[0m\u001b[0mfollow_symlinks\u001b[0m\u001b[1;33m)\u001b[0m\u001b[1;33m\u001b[0m\u001b[1;33m\u001b[0m\u001b[0m\n\u001b[0;32m    429\u001b[0m     \u001b[1;32mreturn\u001b[0m \u001b[0mdst\u001b[0m\u001b[1;33m\u001b[0m\u001b[1;33m\u001b[0m\u001b[0m\n",
      "\u001b[1;32mC:\\Program Files\\WindowsApps\\PythonSoftwareFoundation.Python.3.9_3.9.2544.0_x64__qbz5n2kfra8p0\\lib\\shutil.py\u001b[0m in \u001b[0;36mcopyfile\u001b[1;34m(src, dst, follow_symlinks)\u001b[0m\n\u001b[0;32m    262\u001b[0m         \u001b[0mos\u001b[0m\u001b[1;33m.\u001b[0m\u001b[0msymlink\u001b[0m\u001b[1;33m(\u001b[0m\u001b[0mos\u001b[0m\u001b[1;33m.\u001b[0m\u001b[0mreadlink\u001b[0m\u001b[1;33m(\u001b[0m\u001b[0msrc\u001b[0m\u001b[1;33m)\u001b[0m\u001b[1;33m,\u001b[0m \u001b[0mdst\u001b[0m\u001b[1;33m)\u001b[0m\u001b[1;33m\u001b[0m\u001b[1;33m\u001b[0m\u001b[0m\n\u001b[0;32m    263\u001b[0m     \u001b[1;32melse\u001b[0m\u001b[1;33m:\u001b[0m\u001b[1;33m\u001b[0m\u001b[1;33m\u001b[0m\u001b[0m\n\u001b[1;32m--> 264\u001b[1;33m         \u001b[1;32mwith\u001b[0m \u001b[0mopen\u001b[0m\u001b[1;33m(\u001b[0m\u001b[0msrc\u001b[0m\u001b[1;33m,\u001b[0m \u001b[1;34m'rb'\u001b[0m\u001b[1;33m)\u001b[0m \u001b[1;32mas\u001b[0m \u001b[0mfsrc\u001b[0m\u001b[1;33m:\u001b[0m\u001b[1;33m\u001b[0m\u001b[1;33m\u001b[0m\u001b[0m\n\u001b[0m\u001b[0;32m    265\u001b[0m             \u001b[1;32mtry\u001b[0m\u001b[1;33m:\u001b[0m\u001b[1;33m\u001b[0m\u001b[1;33m\u001b[0m\u001b[0m\n\u001b[0;32m    266\u001b[0m                 \u001b[1;32mwith\u001b[0m \u001b[0mopen\u001b[0m\u001b[1;33m(\u001b[0m\u001b[0mdst\u001b[0m\u001b[1;33m,\u001b[0m \u001b[1;34m'wb'\u001b[0m\u001b[1;33m)\u001b[0m \u001b[1;32mas\u001b[0m \u001b[0mfdst\u001b[0m\u001b[1;33m:\u001b[0m\u001b[1;33m\u001b[0m\u001b[1;33m\u001b[0m\u001b[0m\n",
      "\u001b[1;31mFileNotFoundError\u001b[0m: [Errno 2] No such file or directory: 'Hello Senpai This is Yui.mp3'"
     ]
    }
   ],
   "source": [
    "import speech_recognition as sr #the main speech recog package\n",
    "import re #for pattern matching\n",
    "from playsound import playsound #to perform the act of playing\n",
    "import time #to add delay\n",
    "    \n",
    "    \n",
    "def speech():\n",
    "    r=sr.Recognizer()\n",
    "    \n",
    "    with sr.Microphone() as source:\n",
    "        print(\"Which song would you like to hear?\")\n",
    "        playsound(r'which song would you like to hear.mp3')        \n",
    "        audio=r.record(source,duration=5)\n",
    "        print(\"Processing...\")\n",
    "    try:\n",
    "        text=r.recognize_google(audio)\n",
    "        return text\n",
    "    except Exception as e:\n",
    "        print(e)   \n",
    "\n",
    "          \n",
    "        \n",
    "def sampling():\n",
    "    SPEECH=speech()\n",
    "    print(SPEECH)\n",
    "    SampleSpace= re.compile(r'roses|Godzilla|all time low|bohemian rhapsody|elastic heart|homicide|Roxanne')\n",
    "    try:\n",
    "       searching=SampleSpace.search(SPEECH)\n",
    "    except Exception:\n",
    "        print(\"I didn't quite catch that\")\n",
    "        playsound(r'I didnt quite catch that.mp3')\n",
    "    \n",
    "        \n",
    "            \n",
    "        \n",
    "    try:\n",
    "        if searching.group()=='roses':\n",
    "            print(\"Just a Moment\")\n",
    "            playsound(r'Just a Moment.mp3')\n",
    "            \n",
    "            return 1\n",
    "        elif searching.group()== 'Godzilla':\n",
    "            print(\"Just a Moment\")\n",
    "            playsound(r'Just a Moment.mp3')\n",
    "            \n",
    "            return 2\n",
    "        elif searching.group()== 'all time low':\n",
    "            print(\"Just a Moment\")\n",
    "            playsound(r'Just a Moment.mp3')\n",
    "            \n",
    "            return 3\n",
    "        elif searching.group()== 'bohemian rhapsody':\n",
    "            print(\"Just a Moment\")\n",
    "            playsound(r'Just a Moment.mp3')\n",
    "            \n",
    "            return 4\n",
    "        elif searching.group()=='elastic heart':\n",
    "            print(\"Just a Moment\")\n",
    "            playsound(r'Just a Moment.mp3')\n",
    "            \n",
    "            return 5\n",
    "        elif searching.group()=='homicide':\n",
    "            print(\"Just a Moment\")\n",
    "            playsound(r'Just a Moment.mp3')\n",
    "            \n",
    "            return 6 \n",
    "        elif searching.group()=='Roxanne':\n",
    "            print(\"Just a Moment\")\n",
    "            playsound(r'Just a Moment.mp3')\n",
    "            \n",
    "            return 7\n",
    "        else:\n",
    "            print(\"Song Not Found\")\n",
    "            playsound(r'Song Not Found.mp3')\n",
    "            return 0\n",
    "        \n",
    "    except Exception:\n",
    "        print(\"Song Not Found\")\n",
    "        playsound(r'Song Not Found.mp3')\n",
    "        print(\"Please Give Me Another Chance\")\n",
    "        playsound(r'Please Give Me Another Chance.mp3')\n",
    "        return 0\n",
    "    \n",
    "    \n",
    "    \n",
    "print(\"Hello Senpai This is Yui!!\")\n",
    "playsound(r'Hello Senpai This is Yui.mp3')\n",
    "    \n",
    "flag = sampling()\n",
    "print(flag)\n",
    "\n",
    "    \n",
    "if flag == 1:\n",
    "    time.sleep(1)\n",
    "    playsound(r'Roses.mp3')\n",
    "elif flag == 2:\n",
    "    time.sleep(1)\n",
    "    print(\"This song starts late.Please Wait...\")\n",
    "    playsound(r'This song starts late Please Wait.mp3')\n",
    "    playsound(r'godzilla.mp3')\n",
    "elif flag == 3:\n",
    "    time.sleep(1)\n",
    "    playsound(r'All time low.mp3')\n",
    "elif flag == 4:\n",
    "    time.sleep(1)\n",
    "    playsound(r'Bohemian Rhapsody.mp3')\n",
    "elif flag == 5:\n",
    "    time.sleep(1)\n",
    "    playsound(r'Elastic Heart.mp3')\n",
    "elif flag == 6:\n",
    "    time.sleep(1)\n",
    "    playsound(r'Homicide.mp3')\n",
    "elif flag==7:\n",
    "    time.sleep(1)\n",
    "    playsound(r'ROXANNE.mp3')\n",
    "\n"
   ]
  },
  {
   "cell_type": "code",
   "execution_count": null,
   "metadata": {},
   "outputs": [],
   "source": []
  },
  {
   "cell_type": "code",
   "execution_count": null,
   "metadata": {},
   "outputs": [],
   "source": []
  }
 ],
 "metadata": {
  "kernelspec": {
   "display_name": "Python 3",
   "language": "python",
   "name": "python3"
  },
  "language_info": {
   "codemirror_mode": {
    "name": "ipython",
    "version": 3
   },
   "file_extension": ".py",
   "mimetype": "text/x-python",
   "name": "python",
   "nbconvert_exporter": "python",
   "pygments_lexer": "ipython3",
   "version": "3.9.9"
  }
 },
 "nbformat": 4,
 "nbformat_minor": 4
}
