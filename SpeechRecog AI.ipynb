{
 "cells": [
  {
   "cell_type": "markdown",
   "metadata": {},
   "source": [
    "# Importing Packages for Speech Recognition"
   ]
  },
  {
   "cell_type": "code",
   "execution_count": null,
   "metadata": {},
   "outputs": [],
   "source": [
    "import speech_recognition as sr #the main speech recog package\n",
    "import re #for pattern matching\n",
    "from playsound import playsound #to perform the act of playing\n",
    "import time #to add delay\n"
   ]
  },
  {
   "cell_type": "code",
   "execution_count": null,
   "metadata": {},
   "outputs": [],
   "source": []
  },
  {
   "cell_type": "markdown",
   "metadata": {},
   "source": [
    "# Sound Production(For ProducingThe Response Sounds)"
   ]
  },
  {
   "cell_type": "code",
   "execution_count": null,
   "metadata": {},
   "outputs": [],
   "source": [
    "from gtts import gTTS #for creating own sounds froom text \n",
    "def sound_producer(mytext):\n",
    "    \n",
    "# Language in which you want to convert \n",
    "    language = 'en'\n",
    "  \n",
    "# Passing the text and language to the engine,  \n",
    "# here we have marked slow=False. Which tells  \n",
    "# the module that the converted audio should  \n",
    "# have a high speed \n",
    "    myobj = gTTS(text=mytext, lang=language, slow=False)\n",
    "    string=mytext+\".mp3\"\n",
    "  \n",
    "# Saving the converted audio in a mp3 file named \n",
    "# welcome  \n",
    "    myobj.save(string)"
   ]
  },
  {
   "cell_type": "code",
   "execution_count": null,
   "metadata": {},
   "outputs": [],
   "source": [
    "sound_producer('This song starts late Please Wait')"
   ]
  },
  {
   "cell_type": "markdown",
   "metadata": {},
   "source": [
    "# Speech Recognizer"
   ]
  },
  {
   "cell_type": "code",
   "execution_count": null,
   "metadata": {},
   "outputs": [],
   "source": [
    "def speech():\n",
    "    r=sr.Recognizer()\n",
    "    \n",
    "    with sr.Microphone() as source:\n",
    "        print(\"Which song would you like to hear?\")\n",
    "        playsound(r'which song would you like to hear.mp3')        \n",
    "        audio=r.record(source,duration=5)\n",
    "        print(\"Processing...\")\n",
    "    try:\n",
    "        text=r.recognize_google(audio)\n",
    "        return text\n",
    "    except Exception as e:\n",
    "        print(e)"
   ]
  },
  {
   "cell_type": "code",
   "execution_count": null,
   "metadata": {},
   "outputs": [],
   "source": [
    "speech()"
   ]
  },
  {
   "cell_type": "markdown",
   "metadata": {},
   "source": [
    "# Pattern Matching For More Human Characteristics for the AI"
   ]
  },
  {
   "cell_type": "code",
   "execution_count": null,
   "metadata": {},
   "outputs": [],
   "source": [
    "def sampling():\n",
    "    SPEECH=speech()\n",
    "    print(SPEECH)\n",
    "    SampleSpace= re.compile(r'roses|Godzilla|all time low|bohemian rhapsody|elastic heart|homicide|Roxanne')\n",
    "    try:\n",
    "        searching=SampleSpace.search(SPEECH)\n",
    "        \n",
    "    except Exception:\n",
    "        print(\"I didn't quite catch that\")\n",
    "        playsound(r'I didnt quite catch that.mp3')\n",
    "        \n",
    "        \n",
    "    try:\n",
    "        if searching.group()=='roses':\n",
    "            print(\"Just a Moment\")\n",
    "            playsound(r'Just a Moment.mp3')\n",
    "            \n",
    "            return 1\n",
    "        elif searching.group()== 'Godzilla':\n",
    "            print(\"Just a Moment\")\n",
    "            playsound(r'Just a Moment.mp3')\n",
    "            \n",
    "            return 2\n",
    "        elif searching.group()== 'all time low':\n",
    "            print(\"Just a Moment\")\n",
    "            playsound(r'Just a Moment.mp3')\n",
    "            \n",
    "            return 3\n",
    "        elif searching.group()== 'bohemian rhapsody':\n",
    "            print(\"Just a Moment\")\n",
    "            playsound(r'Just a Moment.mp3')\n",
    "            \n",
    "            return 4\n",
    "        elif searching.group()=='elastic heart':\n",
    "            print(\"Just a Moment\")\n",
    "            playsound(r'Just a Moment.mp3')\n",
    "            \n",
    "            return 5\n",
    "        elif searching.group()=='homicide':\n",
    "            print(\"Just a Moment\")\n",
    "            playsound(r'Just a Moment.mp3')\n",
    "            \n",
    "            return 6 \n",
    "        elif searching.group()=='Roxanne':\n",
    "            print(\"Just a Moment\")\n",
    "            playsound(r'Just a Moment.mp3')\n",
    "            \n",
    "            return 7\n",
    "        else:\n",
    "            return 0\n",
    "        \n",
    "    except Exception:\n",
    "        print(\"Song Not Found\")\n",
    "        playsound(r'Song Not Found.mp3')\n",
    "        print(\"Please Give Me Another Chance\")\n",
    "        playsound(r'Please Give Me Another Chance.mp3')"
   ]
  },
  {
   "cell_type": "markdown",
   "metadata": {},
   "source": [
    "# Performing The Correct Action Based on The Processing"
   ]
  },
  {
   "cell_type": "code",
   "execution_count": null,
   "metadata": {},
   "outputs": [],
   "source": [
    "playsound(r'Hello Senpai This is Yui.mp3')\n",
    "flag = sampling()\n",
    "print(flag)\n",
    "\n",
    "if flag == 0:\n",
    "    time.sleep(1)\n",
    "    playsound(r'Please Give Me Another Chance.mp3')\n",
    "    print(\"Please Give Me Another Chance\")\n",
    "elif flag == 1:\n",
    "    time.sleep(1)\n",
    "    playsound(r'Roses.mp3')\n",
    "elif flag == 2:\n",
    "    time.sleep(1)\n",
    "    playsound(r'godzilla.mp3')\n",
    "elif flag == 3:\n",
    "    time.sleep(1)\n",
    "    playsound(r'All time low.mp3')\n",
    "elif flag == 4:\n",
    "    time.sleep(1)\n",
    "    playsound(r'Bohemian Rhapsody.mp3')\n",
    "elif flag == 5:\n",
    "    time.sleep(1)\n",
    "    playsound(r'Elastic Heart.mp3')\n",
    "elif flag == 6:\n",
    "    time.sleep(1)\n",
    "    playsound(r'Homicide.mp3')\n",
    "elif flag==7:\n",
    "    time.sleep(1)\n",
    "    playsound(r'ROXANNE.mp3')"
   ]
  },
  {
   "cell_type": "markdown",
   "metadata": {},
   "source": [
    "# "
   ]
  },
  {
   "cell_type": "markdown",
   "metadata": {},
   "source": [
    "# COMPLETE PROGRAM"
   ]
  },
  {
   "cell_type": "code",
   "execution_count": null,
   "metadata": {},
   "outputs": [],
   "source": [
    "import speech_recognition as sr #the main speech recog package\n",
    "import re #for pattern matching\n",
    "from playsound import playsound #to perform the act of playing\n",
    "import time #to add delay\n",
    "    \n",
    "    \n",
    "def speech():\n",
    "    r=sr.Recognizer()\n",
    "    \n",
    "    with sr.Microphone() as source:\n",
    "        print(\"Which song would you like to hear?\")\n",
    "        playsound(r'which song would you like to hear.mp3')        \n",
    "        audio=r.record(source,duration=5)\n",
    "        print(\"Processing...\")\n",
    "    try:\n",
    "        text=r.recognize_google(audio)\n",
    "        return text\n",
    "    except Exception as e:\n",
    "        print(e)   \n",
    "\n",
    "          \n",
    "        \n",
    "def sampling():\n",
    "    SPEECH=speech()\n",
    "    print(SPEECH)\n",
    "    SampleSpace= re.compile(r'roses|Godzilla|all time low|bohemian rhapsody|elastic heart|homicide|Roxanne')\n",
    "    try:\n",
    "       searching=SampleSpace.search(SPEECH)\n",
    "    except Exception:\n",
    "        print(\"I didn't quite catch that\")\n",
    "        playsound(r'I didnt quite catch that.mp3')\n",
    "    \n",
    "        \n",
    "            \n",
    "        \n",
    "    try:\n",
    "        if searching.group()=='roses':\n",
    "            print(\"Just a Moment\")\n",
    "            playsound(r'Just a Moment.mp3')\n",
    "            \n",
    "            return 1\n",
    "        elif searching.group()== 'Godzilla':\n",
    "            print(\"Just a Moment\")\n",
    "            playsound(r'Just a Moment.mp3')\n",
    "            \n",
    "            return 2\n",
    "        elif searching.group()== 'all time low':\n",
    "            print(\"Just a Moment\")\n",
    "            playsound(r'Just a Moment.mp3')\n",
    "            \n",
    "            return 3\n",
    "        elif searching.group()== 'bohemian rhapsody':\n",
    "            print(\"Just a Moment\")\n",
    "            playsound(r'Just a Moment.mp3')\n",
    "            \n",
    "            return 4\n",
    "        elif searching.group()=='elastic heart':\n",
    "            print(\"Just a Moment\")\n",
    "            playsound(r'Just a Moment.mp3')\n",
    "            \n",
    "            return 5\n",
    "        elif searching.group()=='homicide':\n",
    "            print(\"Just a Moment\")\n",
    "            playsound(r'Just a Moment.mp3')\n",
    "            \n",
    "            return 6 \n",
    "        elif searching.group()=='Roxanne':\n",
    "            print(\"Just a Moment\")\n",
    "            playsound(r'Just a Moment.mp3')\n",
    "            \n",
    "            return 7\n",
    "        else:\n",
    "            print(\"Song Not Found\")\n",
    "            playsound(r'Song Not Found.mp3')\n",
    "            return 0\n",
    "        \n",
    "    except Exception:\n",
    "        print(\"Song Not Found\")\n",
    "        playsound(r'Song Not Found.mp3')\n",
    "        print(\"Please Give Me Another Chance\")\n",
    "        playsound(r'Please Give Me Another Chance.mp3')\n",
    "        return 0\n",
    "    \n",
    "    \n",
    "    \n",
    "print(\"Hello Senpai This is Yui!!\")\n",
    "playsound(r'Hello Senpai This is Yui.mp3')\n",
    "    \n",
    "flag = sampling()\n",
    "print(flag)\n",
    "\n",
    "    \n",
    "if flag == 1:\n",
    "    time.sleep(1)\n",
    "    playsound(r'Roses.mp3')\n",
    "elif flag == 2:\n",
    "    time.sleep(1)\n",
    "    print(\"This song starts late.Please Wait...\")\n",
    "    playsound(r'This song starts late Please Wait.mp3')\n",
    "    playsound(r'godzilla.mp3')\n",
    "elif flag == 3:\n",
    "    time.sleep(1)\n",
    "    playsound(r'All time low.mp3')\n",
    "elif flag == 4:\n",
    "    time.sleep(1)\n",
    "    playsound(r'Bohemian Rhapsody.mp3')\n",
    "elif flag == 5:\n",
    "    time.sleep(1)\n",
    "    playsound(r'Elastic Heart.mp3')\n",
    "elif flag == 6:\n",
    "    time.sleep(1)\n",
    "    playsound(r'Homicide.mp3')\n",
    "elif flag==7:\n",
    "    time.sleep(1)\n",
    "    playsound(r'ROXANNE.mp3')\n",
    "\n"
   ]
  },
  {
   "cell_type": "code",
   "execution_count": null,
   "metadata": {},
   "outputs": [],
   "source": []
  },
  {
   "cell_type": "code",
   "execution_count": null,
   "metadata": {},
   "outputs": [],
   "source": []
  }
 ],
 "metadata": {
  "kernelspec": {
   "display_name": "Python 3",
   "language": "python",
   "name": "python3"
  },
  "language_info": {
   "codemirror_mode": {
    "name": "ipython",
    "version": 3
   },
   "file_extension": ".py",
   "mimetype": "text/x-python",
   "name": "python",
   "nbconvert_exporter": "python",
   "pygments_lexer": "ipython3",
   "version": "3.8.2"
  }
 },
 "nbformat": 4,
 "nbformat_minor": 4
}
